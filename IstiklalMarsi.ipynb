{
  "nbformat": 4,
  "nbformat_minor": 0,
  "metadata": {
    "colab": {
      "name": "IstiklalMarsi.ipynb",
      "version": "0.3.2",
      "provenance": [],
      "collapsed_sections": [],
      "include_colab_link": true
    },
    "kernelspec": {
      "name": "python3",
      "display_name": "Python 3"
    }
  },
  "cells": [
    {
      "cell_type": "markdown",
      "metadata": {
        "id": "view-in-github",
        "colab_type": "text"
      },
      "source": [
        "<a href=\"https://colab.research.google.com/github/senaaslibay/python-beginner/blob/develop_2/IstiklalMarsi.ipynb\" target=\"_parent\"><img src=\"https://colab.research.google.com/assets/colab-badge.svg\" alt=\"Open In Colab\"/></a>"
      ]
    },
    {
      "cell_type": "code",
      "metadata": {
        "id": "-vpVOUun_47D",
        "colab_type": "code",
        "outputId": "32a6d205-f527-4a8f-803f-98bdd919e418",
        "colab": {
          "base_uri": "https://localhost:8080/",
          "height": 225
        }
      },
      "source": [
        "istiklal=\"\"\"Korkma, sönmez bu şafaklarda yüzen al sancak; \n",
        "Sönmeden yurdumun üstünde tüten en son ocak.\n",
        "O benim milletimin yıldızıdır, parlayacak; \n",
        "O benimdir, o benim milletimindir ancak.\n",
        "\n",
        "Çatma, kurban olayım, çehreni ey nazlı hilâl! \n",
        "Kahraman ırkıma bir gül... Ne bu şiddet, bu celâl? \n",
        "Sana olmaz dökülen kanlarımız sonra helâl; \n",
        "Hakkıdır, Hakk’a tapan, milletimin istiklâl.\n",
        "\n",
        "Ben ezelden beridir hür yaşadım, hür yaşarım.\n",
        "Hangi çılgın bana zincir vuracakmış? Şaşarım! \n",
        "Kükremiş sel gibiyim: Bendimi çiğner, aşarım; \n",
        "Yırtarım dağları, enginlere sığmam taşarım.\n",
        "\n",
        "Garb’ın âfâkını sarmışsa çelik zırhlı duvar; \n",
        "Benim îman dolu göğsüm gibi serhaddim var.\n",
        "Ulusun, korkma! Nasıl böyle bir îmânı boğar,\n",
        "«Medeniyyet! » dediğin tek dişi kalmış canavar?\n",
        "\n",
        "Arkadaş! Yurduma alçakları uğratma sakın; \n",
        "Siper et gövdeni, dursun bu hayâsızca akın.\n",
        "Doğacaktır sana va’dettiği günler Hakk’ın...\n",
        "Kim bilir, belki yarın, belki yarından da yakın.\n",
        "\n",
        "Bastığın yerleri «toprak! » diyerek geçme, tanı! \n",
        "Düşün altındaki binlerce kefensiz yatanı.\n",
        "Sen şehîd oğlusun, incitme, yazıktır, atanı:\n",
        "Verme, dünyâları alsan da, bu cennet vatanı.\n",
        "\n",
        "Kim bu cennet vatanın uğruna olmaz ki fedâ? \n",
        "Şühedâ fışkıracak toprağı sıksan, şühedâ! \n",
        "Cânı, cânânı, bütün vârımı alsın da Hudâ,\n",
        "Etmesin tek vatanımdan beni dünyâda cüdâ.\n",
        "\n",
        "Rûhumun senden İlâhî şudur ancak emeli:\n",
        "Değmesin ma’bedimin göğsüne nâ-mahrem eli; \n",
        "Bu ezanlar -ki şehâdetleri dînin temeli-\n",
        "Ebedî, yurdumun üstünde benim inlemeli.\n",
        "\n",
        "O zaman vecd ile bin secde eder -varsa- taşım; \n",
        "Her cerîhamdan, İlâhî, boşanıp kanlı yaşım,\n",
        "Fışkırır rûh-i mücerred gibi yerden na’şım! \n",
        "O zaman yükselerek Arş’a değer, belki, başım.\n",
        "\n",
        "Dalgalan sen de şafaklar gibi ey şanlı hilâl! \n",
        "Olsun artık dökülen kanlarımın hepsi helâl.\n",
        "Ebediyyen sana yok, ırkıma yok izmihlâl:\n",
        "Hakkıdır, hür yaşamış, bayrağımın hürriyyet; \n",
        "Hakkıdır, Hakk’a tapan, milletimin istiklâl.\"\"\"\n",
        "\n",
        "\n",
        "_istiklal=istiklal.split(\"\\n\\n\")\n",
        "\n",
        "kitalar={}\n",
        "\n",
        "for i in range(10):\n",
        "  kitalar[i+1]=_istiklal[i]\n",
        "  \n",
        "print(\"Çıkmak için lütfen x tuşuna basınız.\")\n",
        "\n",
        "while 1:\n",
        "  deger=True\n",
        "  sayi=input(\"Ekrana getirmek istediğiniz mısranın numarasını giriniz.\")\n",
        "  \n",
        "  if sayi==\"x\" or sayi==\"X\":\n",
        "    print(\"Güle güle..\")\n",
        "    break\n",
        "    \n",
        "  else:\n",
        "    try:\n",
        "      _sayi=int(sayi)\n",
        "  \n",
        "    except ValueError:\n",
        "      print(\"Lütfen sadece sayı giriniz.\")\n",
        "      deger=False\n",
        "      \n",
        "  if deger:\n",
        "    if _sayi>10 or _sayi<1:\n",
        "      print(\"İstiklal Marşımızda bu kadar mısra yok.\")\n",
        "    \n",
        "    else:\n",
        "      for i in range(1,11):\n",
        "        if _sayi==i:\n",
        "          print(kitalar[i])\n",
        "      \n",
        "      \n",
        "        \n",
        "        \n",
        "              \n",
        "    \n",
        "  \n",
        "\n",
        "\n",
        "\n",
        "\n"
      ],
      "execution_count": 0,
      "outputs": [
        {
          "output_type": "stream",
          "text": [
            "Çıkmak için lütfen x tuşuna basınız.\n",
            "Ekrana getirmek istediğiniz mısranın numarasını giriniz.jk\n",
            "Lütfen sadece sayı giriniz.\n",
            "Ekrana getirmek istediğiniz mısranın numarasını giriniz.67\n",
            "İstiklal Marşımızda bu kadar mısra yok.\n",
            "Ekrana getirmek istediğiniz mısranın numarasını giriniz.7\n",
            "Kim bu cennet vatanın uğruna olmaz ki fedâ? \n",
            "Şühedâ fışkıracak toprağı sıksan, şühedâ! \n",
            "Cânı, cânânı, bütün vârımı alsın da Hudâ,\n",
            "Etmesin tek vatanımdan beni dünyâda cüdâ.\n",
            "Ekrana getirmek istediğiniz mısranın numarasını giriniz.x\n",
            "Güle güle..\n"
          ],
          "name": "stdout"
        }
      ]
    },
    {
      "cell_type": "code",
      "metadata": {
        "id": "yn_un6eMFKXS",
        "colab_type": "code",
        "colab": {}
      },
      "source": [
        ""
      ],
      "execution_count": 0,
      "outputs": []
    },
    {
      "cell_type": "code",
      "metadata": {
        "id": "I2oPF1EoEFW5",
        "colab_type": "code",
        "colab": {}
      },
      "source": [
        ""
      ],
      "execution_count": 0,
      "outputs": []
    }
  ]
}