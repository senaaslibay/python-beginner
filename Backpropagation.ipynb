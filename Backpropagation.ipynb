import numpy as np
i1=0.5
i2=0.10
w1=0.15
w2=0.20
w3=0.25
w4=0.30
w5=0.40
w6=0.45
w7=0.50
w8=0.55
b1=0.35
b2=0.60
target1=0.01
target2=0.99
n=0.5
sayac1=0


def hesapla(i,w,b):
  out=i.dot(w)
  out=out+b
  return out

def sigmoid(x):
  return 1/(1+(np.exp(-x)))

def Error(target,output):
  error=(1/2)*((target-output)**2)
  return error

def Turev1(target, output):
  turev1=output-target
  return turev1

def Turev2(output):
  return(output*(1-output))

def Turev3(h):
  return(h)

def Hesapla(w,n,hata):
  return(w-n*hata)

#oo[0]'ı while döngüsünde sorgulayabilmek için ilk başta bu işlemleri bir kereliğine yapam gerekti'
inputs=np.array([i1,i2])

weights1=np.array([[w1,w3],[w2,w4]])
weights2=np.array([[w5,w7],[w6,w8]])

hh=hesapla(inputs,weights1,b1)
hh=sigmoid(hh)
h1=hh[0]
h2=hh[1]
#print("h1 ve h2")
#print(hh)

oo=hesapla(hh,weights2,b2)
oo=sigmoid(oo)
o1=oo[0]
o2=oo[1]
print("ilk tahmin o1 ve o2")
print(oo)
  

"""o1 ve o2 değerlerini kontrol ediyorum istediğim değerlere ulaşamadığım durumda tekrar döngüye
girip yeni o1 ve o2 değerlerini hesaplıyorum"""  

while(round(oo[0],2)!=0.01 and round(oo[1],2))!=0.99:#round'u virgülden sonra 2 basamak alabilmek için kullandım
  
  sayac1=sayac1+1#kaç iterasyonda bulacağımı sayıyorum
  
  inputs=np.array([i1,i2])

  weights1=np.array([[w1,w3],[w2,w4]])
  weights2=np.array([[w5,w7],[w6,w8]])

  hh=hesapla(inputs,weights1,b1)
  hh=sigmoid(hh)#yeni bulduğum h değerlerini atıyorum
  h1=hh[0]
  h2=hh[1]
  #print("h1 ve h2")
  #print(hh)


  oo=hesapla(hh,weights2,b2)
  oo=sigmoid(oo)#yeni bulduğum output değerlerini atıyorum
  o1=oo[0]
  o2=oo[1]
  #print("o1",oo[0])

  turev1=Turev1(target1,o1)
  turev2=Turev2(o1)
  turev3=Turev3(h1)
  hata1=turev1*turev2*turev3
  #print("hata1",hata1)

  _turev1=Turev1(target2,o2)
  _turev2=Turev2(o2)
  _turev3=Turev3(h2)
  hata2=_turev1*_turev2*_turev3
  #print("hata2",hata2)

  w5=Hesapla(w5,n,hata1)#yeni bulduğum ağırlık değerlerini atıyorum
  w6=Hesapla(w6,n,hata1)
  w7=Hesapla(w7,n,hata2)
  w8=Hesapla(w8,n,hata2)

  #print("w5",w5)
  #print("w6",w6)
  #print("w7",w7)
  #print("w8",w8)
  
print("o1",oo[0]) 
print(sayac1," iterasyonda istediğimiz değere ulaştık.")

print("o2",oo[1])
print(sayac1," iterasyonda istediğimiz değere ulaştık.")



  
  
#totalError=Error(target1,o1)+Error(target2,o2)  
#print(totalError)
